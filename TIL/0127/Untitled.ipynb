{
 "cells": [
  {
   "cell_type": "code",
   "execution_count": 6,
   "id": "0aeeed3e",
   "metadata": {},
   "outputs": [],
   "source": [
    "class Point :\n",
    "    def __init__(self, x , y) :\n",
    "        self.x = x\n",
    "        self.y = y\n",
    "        \n",
    "class Rectangle :\n",
    "    def __init__(self,point1,point2):\n",
    "        self.point1_x = point1.x\n",
    "        self.point1_y = point1.y\n",
    "        self.point2_x = point2.x\n",
    "        self.point2_y = point2.y\n",
    "        \n",
    "    \n",
    "    def get_area(self) :\n",
    "        return abs(self.point1_x - self.point2_x)*abs(self.point1_y - self.point2_y)\n",
    "    \n",
    "    def get_perimeter(self):\n",
    "        return 2*(abs(self.point1_x - self.point2_x)+abs(self.point1_y - self.point2_y))\n",
    "    def is_square(self):\n",
    "        if abs(self.point1_x - self.point2_x) == abs(self.point1_y - self.point2_y):\n",
    "            return True\n",
    "        else :\n",
    "            return False\n",
    "        "
   ]
  },
  {
   "cell_type": "code",
   "execution_count": 10,
   "id": "7efc4eb1",
   "metadata": {},
   "outputs": [],
   "source": [
    "p1 = Point(1,3)\n",
    "p2 = Point(3,1)\n",
    "r1 = Rectangle(p1,p2)\n",
    "\n",
    "p3 = Point(3,7)\n",
    "p4 = Point(6,4)\n",
    "r2 = Rectangle(p3,p4)\n"
   ]
  },
  {
   "cell_type": "code",
   "execution_count": 11,
   "id": "464c421d",
   "metadata": {},
   "outputs": [
    {
     "name": "stdout",
     "output_type": "stream",
     "text": [
      "4\n",
      "8\n",
      "True\n",
      "9\n",
      "12\n",
      "True\n"
     ]
    }
   ],
   "source": [
    "print(r1.get_area())\n",
    "print(r1.get_perimeter())\n",
    "print(r1.is_square())\n",
    "\n",
    "print(r2.get_area())\n",
    "print(r2.get_perimeter())\n",
    "print(r2.is_square())\n"
   ]
  }
 ],
 "metadata": {
  "kernelspec": {
   "display_name": "Python 3 (ipykernel)",
   "language": "python",
   "name": "python3"
  },
  "language_info": {
   "codemirror_mode": {
    "name": "ipython",
    "version": 3
   },
   "file_extension": ".py",
   "mimetype": "text/x-python",
   "name": "python",
   "nbconvert_exporter": "python",
   "pygments_lexer": "ipython3",
   "version": "3.9.9"
  }
 },
 "nbformat": 4,
 "nbformat_minor": 5
}
