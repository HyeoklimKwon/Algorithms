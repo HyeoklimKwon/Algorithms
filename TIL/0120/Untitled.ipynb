{
 "cells": [
  {
   "cell_type": "code",
   "execution_count": null,
   "id": "5fbcebcf",
   "metadata": {},
   "outputs": [],
   "source": [
    "## Q.1 \n",
    "### LEGB 순서로 변수를 찾는데 각각의 약자는 Local, Enclosed, Global, Built-in function 순서이다."
   ]
  },
  {
   "cell_type": "code",
   "execution_count": null,
   "id": "15630bf7",
   "metadata": {},
   "outputs": [],
   "source": [
    "## Q.2\n",
    "#(1) 함수는 여러가지 객체를 반환할 수 있다. "
   ]
  },
  {
   "cell_type": "code",
   "execution_count": null,
   "id": "4b6813d5",
   "metadata": {},
   "outputs": [],
   "source": [
    "## Q.3 \n",
    "### 재귀 함수를 사용할 경우는 , 훨씬 간단하게 함수를 작성할 수 있고 재귀 함수가 자연스러운 알고리즘에 적용이 가능하다. 또한 가독서이 반복문에 비해서 좋다고 할 수 있다.\n",
    "### 하지만, 함수 연산 처리 시간이 반복문에 비해 오래 걸린다는 단점을 가지고 있다. "
   ]
  },
  {
   "cell_type": "code",
   "execution_count": 5,
   "id": "d9815acb",
   "metadata": {},
   "outputs": [
    {
     "name": "stdout",
     "output_type": "stream",
     "text": [
      "A\n"
     ]
    }
   ],
   "source": [
    "## Q.1\n",
    "print(chr(65))\n",
    "\n",
    "def get_secret_word(num_list):\n",
    "    meaning = ''\n",
    "    for numbers in num_list :\n",
    "        meaning = meaning + chr(numbers)\n",
    "    return meaning"
   ]
  },
  {
   "cell_type": "code",
   "execution_count": 6,
   "id": "26ac22d0",
   "metadata": {},
   "outputs": [
    {
     "data": {
      "text/plain": [
       "'SsAfY'"
      ]
     },
     "execution_count": 6,
     "metadata": {},
     "output_type": "execute_result"
    }
   ],
   "source": [
    "get_secret_word([83,115,65,102,89])"
   ]
  },
  {
   "cell_type": "code",
   "execution_count": 11,
   "id": "32bec593",
   "metadata": {},
   "outputs": [],
   "source": [
    "## Q.2\n",
    "def get_secret_number(meaning):\n",
    "    numberstr = ''\n",
    "    total = 0\n",
    "    for letter in meaning:\n",
    "        numberstr = numberstr + str(ord(letter))\n",
    "        total += ord(letter)\n",
    "    numbers = int(numberstr)\n",
    "    return total"
   ]
  },
  {
   "cell_type": "code",
   "execution_count": 12,
   "id": "c59a9345",
   "metadata": {},
   "outputs": [
    {
     "data": {
      "text/plain": [
       "(116111109, 336)"
      ]
     },
     "execution_count": 12,
     "metadata": {},
     "output_type": "execute_result"
    }
   ],
   "source": [
    "get_secret_number('tom')"
   ]
  },
  {
   "cell_type": "code",
   "execution_count": 16,
   "id": "ff04fcf9",
   "metadata": {},
   "outputs": [],
   "source": [
    "## Q.3\n",
    "def get_strong_word(x, y):\n",
    "    num_x = get_secret_number(x)\n",
    "    num_y = get_secret_number(y)\n",
    "    if num_x > num_y :\n",
    "        return x\n",
    "    elif num_y >  num_x :\n",
    "        return y\n",
    "    else :\n",
    "        print(\"draw\")"
   ]
  },
  {
   "cell_type": "code",
   "execution_count": 19,
   "id": "8536a817",
   "metadata": {},
   "outputs": [
    {
     "data": {
      "text/plain": [
       "'john'"
      ]
     },
     "execution_count": 19,
     "metadata": {},
     "output_type": "execute_result"
    }
   ],
   "source": [
    "get_strong_word('tom', 'john')"
   ]
  }
 ],
 "metadata": {
  "kernelspec": {
   "display_name": "Python 3 (ipykernel)",
   "language": "python",
   "name": "python3"
  },
  "language_info": {
   "codemirror_mode": {
    "name": "ipython",
    "version": 3
   },
   "file_extension": ".py",
   "mimetype": "text/x-python",
   "name": "python",
   "nbconvert_exporter": "python",
   "pygments_lexer": "ipython3",
   "version": "3.9.9"
  }
 },
 "nbformat": 4,
 "nbformat_minor": 5
}
